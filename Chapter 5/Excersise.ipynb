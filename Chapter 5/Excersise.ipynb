{
 "cells": [
  {
   "cell_type": "code",
   "execution_count": null,
   "metadata": {},
   "outputs": [],
   "source": [
    "#بسم الله الرحمن الرحیم\n",
    "#محمد سجاد شریفی پناه\n",
    "import jupyturtle"
   ]
  },
  {
   "cell_type": "code",
   "execution_count": null,
   "metadata": {},
   "outputs": [
    {
     "data": {
      "text/plain": [
       "'\\nfor i in range(3):\\n    koch(120)\\n    right(120)\\n'"
      ]
     },
     "execution_count": 2,
     "metadata": {},
     "output_type": "execute_result"
    }
   ],
   "source": [
    "def is_triangle(a, b, c):\n",
    "    if a > b + c:\n",
    "        print('No')\n",
    "    elif b > a + c:\n",
    "        print('No')\n",
    "    elif c > a + b:\n",
    "        print('No')\n",
    "    else:\n",
    "        print('Yes')\n",
    "\n",
    "def countdown_by_two(n):\n",
    "    if n == 0:\n",
    "        print('Blastoff!')\n",
    "    else:\n",
    "        print(n)\n",
    "        countdown_by_two(n-2)\n",
    "\n",
    "def koch(x):\n",
    "    #jupyturtle.make_turtle(delay=0)\n",
    "    if x < 5:\n",
    "        jupyturtle.forward(x)\n",
    "    else:\n",
    "        koch(x / 3)\n",
    "        jupyturtle.left(60)\n",
    "        koch(x / 3)\n",
    "        jupyturtle.right(120)\n",
    "        koch(x / 3)\n",
    "        jupyturtle.left(60)\n",
    "        koch(x / 3)\n",
    "'''\n",
    "for i in range(3):\n",
    "    koch(120)\n",
    "    right(120)\n",
    "'''"
   ]
  },
  {
   "cell_type": "code",
   "execution_count": 3,
   "metadata": {},
   "outputs": [
    {
     "data": {
      "text/html": [
       "<svg width=\"300\" height=\"300\" style=\"fill:none; stroke-linecap:round;\">\n",
       "    <rect width=\"100%\" height=\"100%\" fill=\"#F3F3F7\" />\n",
       "\n",
       "\n",
       "<path stroke=\"#663399\" stroke-width=\"2\" d=\"M 150,150 154.4,150 156.7,146.2 158.9,150 163.3,150 165.6,146.2 163.3,142.3 167.8,142.3 170,138.5 172.2,142.3 176.7,142.3 174.4,146.2 176.7,150 181.1,150 183.3,146.2 185.6,150 190,150 192.2,146.2 190,142.3 194.4,142.3 196.7,138.5 194.4,134.6 190,134.6 192.2,130.8 190,126.9 194.4,126.9 196.7,123.1 198.9,126.9 203.3,126.9 205.6,123.1 203.3,119.2 207.8,119.2 210,115.4 212.2,119.2 216.7,119.2 214.4,123.1 216.7,126.9 221.1,126.9 223.3,123.1 225.6,126.9 230,126.9 227.8,130.8 230,134.6 225.6,134.6 223.3,138.5 225.6,142.3 230,142.3 227.8,146.2 230,150 234.4,150 236.7,146.2 238.9,150 243.3,150 245.6,146.2 243.3,142.3 247.8,142.3 250,138.5 252.2,142.3 256.7,142.3 254.4,146.2 256.7,150 261.1,150 263.3,146.2 265.6,150 270,150 267.8,153.8 270,157.7 265.6,157.7 263.3,161.5 265.6,165.4 270,165.4 267.8,169.2 270,173.1 265.6,173.1 263.3,176.9 261.1,173.1 256.7,173.1 254.4,176.9 256.7,180.8 252.2,180.8 250,184.6 252.2,188.5 256.7,188.5 254.4,192.3 256.7,196.2 261.1,196.2 263.3,192.3 265.6,196.2 270,196.2 267.8,200 270,203.9 265.6,203.9 263.3,207.7 265.6,211.6 270,211.6 267.8,215.4 270,219.3 265.6,219.3 263.3,223.1 261.1,219.3 256.7,219.3 254.4,223.1 256.7,227 252.2,227 250,230.8 247.8,227 243.3,227 245.6,223.1 243.3,219.3 238.9,219.3 236.7,223.1 234.4,219.3 230,219.3 227.8,223.1 230,227 225.6,227 223.3,230.8 225.6,234.7 230,234.7 227.8,238.5 230,242.4 225.6,242.4 223.3,246.2 221.1,242.4 216.7,242.4 214.4,246.2 216.7,250.1 212.2,250.1 210,253.9 207.8,250.1 203.3,250.1 205.6,246.2 203.3,242.4 198.9,242.4 196.7,246.2 194.4,242.4 190,242.4 192.2,238.5 190,234.7 194.4,234.7 196.7,230.8 194.4,227 190,227 192.2,223.1 190,219.3 185.6,219.3 183.3,223.1 181.1,219.3 176.7,219.3 174.4,223.1 176.7,227 172.2,227 170,230.8 167.8,227 163.3,227 165.6,223.1 163.3,219.3 158.9,219.3 156.7,223.1 154.4,219.3 150,219.3 152.2,215.4 150,211.6 154.4,211.6 156.7,207.7 154.4,203.9 150,203.9 152.2,200 150,196.2 154.4,196.2 156.7,192.3 158.9,196.2 163.3,196.2 165.6,192.3 163.3,188.5 167.8,188.5 170,184.6 167.8,180.8 163.3,180.8 165.6,176.9 163.3,173.1 158.9,173.1 156.7,176.9 154.4,173.1 150,173.1 152.2,169.2 150,165.4 154.4,165.4 156.7,161.5 154.4,157.7 150,157.7 152.2,153.8 150,150\" />'\n",
       "\n",
       "<g transform=\"rotate(-90.0,150.0,150.0) translate(150.0, 150.0)\">\n",
       "    <circle stroke=\"#63A375\" stroke-width=\"2\" fill=\"transparent\" r=\"5.5\" cx=\"0\" cy=\"0\"/>\n",
       "    <polygon points=\"0,12 2,9 -2,9\" style=\"fill:#63A375;stroke:#63A375;stroke-width:2\"/>\n",
       "</g>\n",
       "\n",
       "</svg>"
      ],
      "text/plain": [
       "<IPython.core.display.HTML object>"
      ]
     },
     "metadata": {},
     "output_type": "display_data"
    }
   ],
   "source": [
    "jupyturtle.make_turtle(delay= 0, height=300)\n",
    "for i in range(3):\n",
    "    koch(120)\n",
    "    jupyturtle.right(120)\n"
   ]
  },
  {
   "cell_type": "code",
   "execution_count": 4,
   "metadata": {},
   "outputs": [
    {
     "name": "stdout",
     "output_type": "stream",
     "text": [
      "8\n",
      "6\n",
      "4\n",
      "2\n",
      "Blastoff!\n"
     ]
    }
   ],
   "source": [
    "countdown_by_two(8)"
   ]
  },
  {
   "cell_type": "code",
   "execution_count": 5,
   "metadata": {},
   "outputs": [
    {
     "name": "stdout",
     "output_type": "stream",
     "text": [
      "Yes\n"
     ]
    }
   ],
   "source": [
    "is_triangle(3,4,5)"
   ]
  }
 ],
 "metadata": {
  "kernelspec": {
   "display_name": "Python 3",
   "language": "python",
   "name": "python3"
  },
  "language_info": {
   "codemirror_mode": {
    "name": "ipython",
    "version": 3
   },
   "file_extension": ".py",
   "mimetype": "text/x-python",
   "name": "python",
   "nbconvert_exporter": "python",
   "pygments_lexer": "ipython3",
   "version": "3.13.0"
  }
 },
 "nbformat": 4,
 "nbformat_minor": 2
}
