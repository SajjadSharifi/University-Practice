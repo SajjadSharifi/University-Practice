{
 "cells": [
  {
   "cell_type": "code",
   "execution_count": 11,
   "metadata": {},
   "outputs": [],
   "source": [
    "#بسم الله الرحمن الرحیم\n",
    "#محمد سجاد شریفی پناه\n",
    "import math"
   ]
  },
  {
   "cell_type": "code",
   "execution_count": 12,
   "metadata": {},
   "outputs": [],
   "source": [
    "def distance(number1: int, number2: int) -> float:\n",
    "    #فاصله 2 عدد رو از هم مشخص میکنیم\n",
    "    return math.sqrt(number1**2 + number2**2)\n",
    "\n",
    "def isBetween(firstNumber: int, middleNumber: int, lastNumber: int) -> bool:\n",
    "    #آیا مقدار وسطی که داده میشه واقعا وسط دو عدد دیگر است؟ \n",
    "    if firstNumber < middleNumber < lastNumber:\n",
    "        return True\n",
    "    else:\n",
    "        return lastNumber < middleNumber < firstNumber\n",
    "\n",
    "def akerMan(m: int, n: int) -> int:\n",
    "    # پیاده سازی تابع آکرمن\n",
    "    if m == 0:\n",
    "        return n+1\n",
    "    if n == 0:\n",
    "        return akerMan(m-1, 1)\n",
    "    return akerMan(m-1, akerMan(m, n-1))"
   ]
  },
  {
   "cell_type": "code",
   "execution_count": 13,
   "metadata": {},
   "outputs": [
    {
     "name": "stdout",
     "output_type": "stream",
     "text": [
      "5.0\n"
     ]
    }
   ],
   "source": [
    "try:\n",
    "   print(distance(3,4))\n",
    "except:\n",
    "    raise Exception(\" something went wrong!!! \")"
   ]
  },
  {
   "cell_type": "code",
   "execution_count": 14,
   "metadata": {},
   "outputs": [
    {
     "name": "stdout",
     "output_type": "stream",
     "text": [
      "True\n"
     ]
    }
   ],
   "source": [
    "\n",
    "try:\n",
    "   print(isBetween(3,4,5))\n",
    "except:\n",
    "    raise Exception(\" something went wrong!!! \")"
   ]
  },
  {
   "cell_type": "code",
   "execution_count": 15,
   "metadata": {},
   "outputs": [
    {
     "name": "stdout",
     "output_type": "stream",
     "text": [
      "61\n"
     ]
    }
   ],
   "source": [
    "try:\n",
    "   print(akerMan(3,3))\n",
    "except:\n",
    "    raise Exception(\" something went wrong!!! \")"
   ]
  }
 ],
 "metadata": {
  "kernelspec": {
   "display_name": "Python 3",
   "language": "python",
   "name": "python3"
  },
  "language_info": {
   "codemirror_mode": {
    "name": "ipython",
    "version": 3
   },
   "file_extension": ".py",
   "mimetype": "text/x-python",
   "name": "python",
   "nbconvert_exporter": "python",
   "pygments_lexer": "ipython3",
   "version": "3.13.0"
  }
 },
 "nbformat": 4,
 "nbformat_minor": 2
}
